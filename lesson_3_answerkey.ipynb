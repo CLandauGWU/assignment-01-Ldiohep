{
 "cells": [
  {
   "cell_type": "markdown",
   "metadata": {},
   "source": [
    "# Lesson 3: Data Wrangling and Visualization"
   ]
  },
  {
   "cell_type": "markdown",
   "metadata": {},
   "source": [
    "Today we're going to work on wrangling and visualizing data. We will be exploring the packages we've learned about earlier in this course: Pandas, NumPy, Matplotlib, and Seaborn.\n",
    "\n",
    "We'll begin by importing the packages we need.\n",
    "\n",
    "## Exercise 1 \n",
    "\n",
    "Import each of the packages mentioned above.  "
   ]
  },
  {
   "cell_type": "code",
   "execution_count": 1,
   "metadata": {
    "collapsed": false
   },
   "outputs": [],
   "source": [
    "import pandas as pd\n",
    "import numpy as np\n",
    "\n",
    "import matplotlib.pyplot as plt\n",
    "import seaborn as sns\n",
    "\n",
    "# This line tells the notebook to display plots inline\n",
    "%matplotlib inline"
   ]
  },
  {
   "cell_type": "markdown",
   "metadata": {},
   "source": [
    "## Exercise 2\n",
    "\n",
    "Import the 2016 City Service Request data we used in lesson 2. Use the os package to set the working directory."
   ]
  },
  {
   "cell_type": "code",
   "execution_count": 2,
   "metadata": {
    "collapsed": true
   },
   "outputs": [],
   "source": [
    "import os\n",
    "os.chdir('C:\\\\Users\\\\peter.casey\\\\Downloads') \n",
    "\n",
    "df = pd.read_csv('City_Service_Requests_in_2016.csv')"
   ]
  },
  {
   "cell_type": "markdown",
   "metadata": {},
   "source": [
    "## Exercise 3 \n",
    "\n",
    "Take a look at the data using some of the techniques you learned last week, including shape, head, and describe."
   ]
  },
  {
   "cell_type": "code",
   "execution_count": 3,
   "metadata": {
    "collapsed": false
   },
   "outputs": [
    {
     "data": {
      "text/html": [
       "<div>\n",
       "<table border=\"1\" class=\"dataframe\">\n",
       "  <thead>\n",
       "    <tr style=\"text-align: right;\">\n",
       "      <th></th>\n",
       "      <th>0</th>\n",
       "      <th>1</th>\n",
       "      <th>2</th>\n",
       "      <th>3</th>\n",
       "      <th>4</th>\n",
       "    </tr>\n",
       "  </thead>\n",
       "  <tbody>\n",
       "    <tr>\n",
       "      <th>﻿X</th>\n",
       "      <td>-77.0289</td>\n",
       "      <td>-77.0194</td>\n",
       "      <td>-77.0147</td>\n",
       "      <td>-77.004</td>\n",
       "      <td>-77.004</td>\n",
       "    </tr>\n",
       "    <tr>\n",
       "      <th>Y</th>\n",
       "      <td>38.9037</td>\n",
       "      <td>38.9416</td>\n",
       "      <td>38.9062</td>\n",
       "      <td>38.8359</td>\n",
       "      <td>38.8359</td>\n",
       "    </tr>\n",
       "    <tr>\n",
       "      <th>OBJECTID</th>\n",
       "      <td>947826</td>\n",
       "      <td>947827</td>\n",
       "      <td>947828</td>\n",
       "      <td>947829</td>\n",
       "      <td>947830</td>\n",
       "    </tr>\n",
       "    <tr>\n",
       "      <th>SERVICECODE</th>\n",
       "      <td>S0276</td>\n",
       "      <td>S0361</td>\n",
       "      <td>PRUNING</td>\n",
       "      <td>S0031</td>\n",
       "      <td>S0031</td>\n",
       "    </tr>\n",
       "    <tr>\n",
       "      <th>SERVICECODEDESCRIPTION</th>\n",
       "      <td>Parking Meter Repair</td>\n",
       "      <td>Sidewalk Repair</td>\n",
       "      <td>Tree Pruning</td>\n",
       "      <td>Bulk Collection</td>\n",
       "      <td>Bulk Collection</td>\n",
       "    </tr>\n",
       "    <tr>\n",
       "      <th>SERVICETYPECODEDESCRIPTION</th>\n",
       "      <td>Transportation Operations Administration</td>\n",
       "      <td>Toa-Street &amp; Bridge Maintenance</td>\n",
       "      <td>Urban Forrestry</td>\n",
       "      <td>SWMA- Solid Waste Management Admistration</td>\n",
       "      <td>SWMA- Solid Waste Management Admistration</td>\n",
       "    </tr>\n",
       "    <tr>\n",
       "      <th>ORGANIZATIONACRONYM</th>\n",
       "      <td>DDOT</td>\n",
       "      <td>DDOT</td>\n",
       "      <td>DDOT</td>\n",
       "      <td>DPW</td>\n",
       "      <td>DPW</td>\n",
       "    </tr>\n",
       "    <tr>\n",
       "      <th>SERVICECALLCOUNT</th>\n",
       "      <td>1</td>\n",
       "      <td>1</td>\n",
       "      <td>1</td>\n",
       "      <td>1</td>\n",
       "      <td>1</td>\n",
       "    </tr>\n",
       "    <tr>\n",
       "      <th>ADDDATE</th>\n",
       "      <td>2016-05-02T11:43:31.000Z</td>\n",
       "      <td>2016-05-02T11:47:49.000Z</td>\n",
       "      <td>2016-05-02T10:44:23.000Z</td>\n",
       "      <td>2016-05-02T11:49:49.000Z</td>\n",
       "      <td>2016-05-02T11:49:50.000Z</td>\n",
       "    </tr>\n",
       "    <tr>\n",
       "      <th>RESOLUTIONDATE</th>\n",
       "      <td>2016-05-03T01:38:10.000Z</td>\n",
       "      <td>NaN</td>\n",
       "      <td>2017-01-19T11:03:08.000Z</td>\n",
       "      <td>2016-05-12T14:27:19.000Z</td>\n",
       "      <td>2016-05-12T14:26:24.000Z</td>\n",
       "    </tr>\n",
       "    <tr>\n",
       "      <th>SERVICEDUEDATE</th>\n",
       "      <td>2016-05-09T11:43:00.000Z</td>\n",
       "      <td>2016-09-20T11:47:00.000Z</td>\n",
       "      <td>2017-05-31T10:44:00.000Z</td>\n",
       "      <td>2016-05-20T11:49:00.000Z</td>\n",
       "      <td>2016-05-20T11:49:00.000Z</td>\n",
       "    </tr>\n",
       "    <tr>\n",
       "      <th>SERVICEORDERDATE</th>\n",
       "      <td>2016-05-02T11:43:31.000Z</td>\n",
       "      <td>2016-05-02T11:47:49.000Z</td>\n",
       "      <td>2016-05-02T10:44:23.000Z</td>\n",
       "      <td>2016-05-02T11:49:49.000Z</td>\n",
       "      <td>2016-05-02T11:49:50.000Z</td>\n",
       "    </tr>\n",
       "    <tr>\n",
       "      <th>INSPECTIONFLAG</th>\n",
       "      <td>N</td>\n",
       "      <td>N</td>\n",
       "      <td>N</td>\n",
       "      <td>N</td>\n",
       "      <td>N</td>\n",
       "    </tr>\n",
       "    <tr>\n",
       "      <th>INSPECTIONDATE</th>\n",
       "      <td>NaN</td>\n",
       "      <td>NaN</td>\n",
       "      <td>NaN</td>\n",
       "      <td>NaN</td>\n",
       "      <td>NaN</td>\n",
       "    </tr>\n",
       "    <tr>\n",
       "      <th>INSPECTORNAME</th>\n",
       "      <td>NaN</td>\n",
       "      <td>NaN</td>\n",
       "      <td>NaN</td>\n",
       "      <td>NaN</td>\n",
       "      <td>NaN</td>\n",
       "    </tr>\n",
       "    <tr>\n",
       "      <th>SERVICEORDERSTATUS</th>\n",
       "      <td>CLOSED</td>\n",
       "      <td>IN-PROGRESS</td>\n",
       "      <td>CLOSED</td>\n",
       "      <td>CLOSED</td>\n",
       "      <td>CLOSED</td>\n",
       "    </tr>\n",
       "    <tr>\n",
       "      <th>STATUS_CODE</th>\n",
       "      <td>CLOSED</td>\n",
       "      <td>OPEN</td>\n",
       "      <td>CLOSED</td>\n",
       "      <td>CLOSED</td>\n",
       "      <td>CLOSED</td>\n",
       "    </tr>\n",
       "    <tr>\n",
       "      <th>SERVICEREQUESTID</th>\n",
       "      <td>16-00485849</td>\n",
       "      <td>16-00485860</td>\n",
       "      <td>16-00485852</td>\n",
       "      <td>16-00485867</td>\n",
       "      <td>16-00485868</td>\n",
       "    </tr>\n",
       "    <tr>\n",
       "      <th>PRIORITY</th>\n",
       "      <td>STANDARD</td>\n",
       "      <td>STANDARD</td>\n",
       "      <td>STANDARD</td>\n",
       "      <td>STANDARD</td>\n",
       "      <td>STANDARD</td>\n",
       "    </tr>\n",
       "    <tr>\n",
       "      <th>STREETADDRESS</th>\n",
       "      <td>1200 - 1299 BLOCK OF L STREET NW</td>\n",
       "      <td>4120 5TH STREET NW</td>\n",
       "      <td>1219 NEW JERSEY AVENUE NW</td>\n",
       "      <td>135 WILMINGTON PLACE SE</td>\n",
       "      <td>135 WILMINGTON PLACE SE</td>\n",
       "    </tr>\n",
       "    <tr>\n",
       "      <th>XCOORD</th>\n",
       "      <td>397497</td>\n",
       "      <td>398317</td>\n",
       "      <td>398729</td>\n",
       "      <td>399652</td>\n",
       "      <td>399652</td>\n",
       "    </tr>\n",
       "    <tr>\n",
       "      <th>YCOORD</th>\n",
       "      <td>137321</td>\n",
       "      <td>141519</td>\n",
       "      <td>137597</td>\n",
       "      <td>129793</td>\n",
       "      <td>129793</td>\n",
       "    </tr>\n",
       "    <tr>\n",
       "      <th>LATITUDE</th>\n",
       "      <td>38.9037</td>\n",
       "      <td>38.9416</td>\n",
       "      <td>38.9062</td>\n",
       "      <td>38.8359</td>\n",
       "      <td>38.8359</td>\n",
       "    </tr>\n",
       "    <tr>\n",
       "      <th>LONGITUDE</th>\n",
       "      <td>-77.0289</td>\n",
       "      <td>-77.0194</td>\n",
       "      <td>-77.0147</td>\n",
       "      <td>-77.004</td>\n",
       "      <td>-77.004</td>\n",
       "    </tr>\n",
       "    <tr>\n",
       "      <th>CITY</th>\n",
       "      <td>WASHINGTON</td>\n",
       "      <td>WASHINGTON</td>\n",
       "      <td>WASHINGTON</td>\n",
       "      <td>WASHINGTON</td>\n",
       "      <td>WASHINGTON</td>\n",
       "    </tr>\n",
       "    <tr>\n",
       "      <th>STATE</th>\n",
       "      <td>DC</td>\n",
       "      <td>DC</td>\n",
       "      <td>DC</td>\n",
       "      <td>DC</td>\n",
       "      <td>DC</td>\n",
       "    </tr>\n",
       "    <tr>\n",
       "      <th>ZIPCODE</th>\n",
       "      <td>20005</td>\n",
       "      <td>20011</td>\n",
       "      <td>20001</td>\n",
       "      <td>20032</td>\n",
       "      <td>20032</td>\n",
       "    </tr>\n",
       "    <tr>\n",
       "      <th>MARADDRESSREPOSITORYID</th>\n",
       "      <td>812754</td>\n",
       "      <td>247564</td>\n",
       "      <td>238344</td>\n",
       "      <td>66302</td>\n",
       "      <td>66302</td>\n",
       "    </tr>\n",
       "    <tr>\n",
       "      <th>WARD</th>\n",
       "      <td>2</td>\n",
       "      <td>4</td>\n",
       "      <td>6</td>\n",
       "      <td>8</td>\n",
       "      <td>8</td>\n",
       "    </tr>\n",
       "    <tr>\n",
       "      <th>DETAILS</th>\n",
       "      <td>Need More Information</td>\n",
       "      <td>NaN</td>\n",
       "      <td>By BANUA, SIMOUN: 5/2/2016 12:48:15 PM\\nthis t...</td>\n",
       "      <td>w riggans collected bulk on 5/12/16*closed by ...</td>\n",
       "      <td>w riggans collected bulk on 5/12/16*closed by ...</td>\n",
       "    </tr>\n",
       "  </tbody>\n",
       "</table>\n",
       "</div>"
      ],
      "text/plain": [
       "                                                                   0  \\\n",
       "﻿X                                                          -77.0289   \n",
       "Y                                                            38.9037   \n",
       "OBJECTID                                                      947826   \n",
       "SERVICECODE                                                    S0276   \n",
       "SERVICECODEDESCRIPTION                          Parking Meter Repair   \n",
       "SERVICETYPECODEDESCRIPTION  Transportation Operations Administration   \n",
       "ORGANIZATIONACRONYM                                             DDOT   \n",
       "SERVICECALLCOUNT                                                   1   \n",
       "ADDDATE                                     2016-05-02T11:43:31.000Z   \n",
       "RESOLUTIONDATE                              2016-05-03T01:38:10.000Z   \n",
       "SERVICEDUEDATE                              2016-05-09T11:43:00.000Z   \n",
       "SERVICEORDERDATE                            2016-05-02T11:43:31.000Z   \n",
       "INSPECTIONFLAG                                                     N   \n",
       "INSPECTIONDATE                                                   NaN   \n",
       "INSPECTORNAME                                                    NaN   \n",
       "SERVICEORDERSTATUS                                            CLOSED   \n",
       "STATUS_CODE                                                   CLOSED   \n",
       "SERVICEREQUESTID                                         16-00485849   \n",
       "PRIORITY                                                    STANDARD   \n",
       "STREETADDRESS                       1200 - 1299 BLOCK OF L STREET NW   \n",
       "XCOORD                                                        397497   \n",
       "YCOORD                                                        137321   \n",
       "LATITUDE                                                     38.9037   \n",
       "LONGITUDE                                                   -77.0289   \n",
       "CITY                                                      WASHINGTON   \n",
       "STATE                                                             DC   \n",
       "ZIPCODE                                                        20005   \n",
       "MARADDRESSREPOSITORYID                                        812754   \n",
       "WARD                                                               2   \n",
       "DETAILS                                        Need More Information   \n",
       "\n",
       "                                                          1  \\\n",
       "﻿X                                                 -77.0194   \n",
       "Y                                                   38.9416   \n",
       "OBJECTID                                             947827   \n",
       "SERVICECODE                                           S0361   \n",
       "SERVICECODEDESCRIPTION                      Sidewalk Repair   \n",
       "SERVICETYPECODEDESCRIPTION  Toa-Street & Bridge Maintenance   \n",
       "ORGANIZATIONACRONYM                                    DDOT   \n",
       "SERVICECALLCOUNT                                          1   \n",
       "ADDDATE                            2016-05-02T11:47:49.000Z   \n",
       "RESOLUTIONDATE                                          NaN   \n",
       "SERVICEDUEDATE                     2016-09-20T11:47:00.000Z   \n",
       "SERVICEORDERDATE                   2016-05-02T11:47:49.000Z   \n",
       "INSPECTIONFLAG                                            N   \n",
       "INSPECTIONDATE                                          NaN   \n",
       "INSPECTORNAME                                           NaN   \n",
       "SERVICEORDERSTATUS                              IN-PROGRESS   \n",
       "STATUS_CODE                                            OPEN   \n",
       "SERVICEREQUESTID                                16-00485860   \n",
       "PRIORITY                                           STANDARD   \n",
       "STREETADDRESS                            4120 5TH STREET NW   \n",
       "XCOORD                                               398317   \n",
       "YCOORD                                               141519   \n",
       "LATITUDE                                            38.9416   \n",
       "LONGITUDE                                          -77.0194   \n",
       "CITY                                             WASHINGTON   \n",
       "STATE                                                    DC   \n",
       "ZIPCODE                                               20011   \n",
       "MARADDRESSREPOSITORYID                               247564   \n",
       "WARD                                                      4   \n",
       "DETAILS                                                 NaN   \n",
       "\n",
       "                                                                            2  \\\n",
       "﻿X                                                                   -77.0147   \n",
       "Y                                                                     38.9062   \n",
       "OBJECTID                                                               947828   \n",
       "SERVICECODE                                                           PRUNING   \n",
       "SERVICECODEDESCRIPTION                                           Tree Pruning   \n",
       "SERVICETYPECODEDESCRIPTION                                    Urban Forrestry   \n",
       "ORGANIZATIONACRONYM                                                      DDOT   \n",
       "SERVICECALLCOUNT                                                            1   \n",
       "ADDDATE                                              2016-05-02T10:44:23.000Z   \n",
       "RESOLUTIONDATE                                       2017-01-19T11:03:08.000Z   \n",
       "SERVICEDUEDATE                                       2017-05-31T10:44:00.000Z   \n",
       "SERVICEORDERDATE                                     2016-05-02T10:44:23.000Z   \n",
       "INSPECTIONFLAG                                                              N   \n",
       "INSPECTIONDATE                                                            NaN   \n",
       "INSPECTORNAME                                                             NaN   \n",
       "SERVICEORDERSTATUS                                                     CLOSED   \n",
       "STATUS_CODE                                                            CLOSED   \n",
       "SERVICEREQUESTID                                                  16-00485852   \n",
       "PRIORITY                                                             STANDARD   \n",
       "STREETADDRESS                                       1219 NEW JERSEY AVENUE NW   \n",
       "XCOORD                                                                 398729   \n",
       "YCOORD                                                                 137597   \n",
       "LATITUDE                                                              38.9062   \n",
       "LONGITUDE                                                            -77.0147   \n",
       "CITY                                                               WASHINGTON   \n",
       "STATE                                                                      DC   \n",
       "ZIPCODE                                                                 20001   \n",
       "MARADDRESSREPOSITORYID                                                 238344   \n",
       "WARD                                                                        6   \n",
       "DETAILS                     By BANUA, SIMOUN: 5/2/2016 12:48:15 PM\\nthis t...   \n",
       "\n",
       "                                                                            3  \\\n",
       "﻿X                                                                    -77.004   \n",
       "Y                                                                     38.8359   \n",
       "OBJECTID                                                               947829   \n",
       "SERVICECODE                                                             S0031   \n",
       "SERVICECODEDESCRIPTION                                        Bulk Collection   \n",
       "SERVICETYPECODEDESCRIPTION          SWMA- Solid Waste Management Admistration   \n",
       "ORGANIZATIONACRONYM                                                       DPW   \n",
       "SERVICECALLCOUNT                                                            1   \n",
       "ADDDATE                                              2016-05-02T11:49:49.000Z   \n",
       "RESOLUTIONDATE                                       2016-05-12T14:27:19.000Z   \n",
       "SERVICEDUEDATE                                       2016-05-20T11:49:00.000Z   \n",
       "SERVICEORDERDATE                                     2016-05-02T11:49:49.000Z   \n",
       "INSPECTIONFLAG                                                              N   \n",
       "INSPECTIONDATE                                                            NaN   \n",
       "INSPECTORNAME                                                             NaN   \n",
       "SERVICEORDERSTATUS                                                     CLOSED   \n",
       "STATUS_CODE                                                            CLOSED   \n",
       "SERVICEREQUESTID                                                  16-00485867   \n",
       "PRIORITY                                                             STANDARD   \n",
       "STREETADDRESS                                         135 WILMINGTON PLACE SE   \n",
       "XCOORD                                                                 399652   \n",
       "YCOORD                                                                 129793   \n",
       "LATITUDE                                                              38.8359   \n",
       "LONGITUDE                                                             -77.004   \n",
       "CITY                                                               WASHINGTON   \n",
       "STATE                                                                      DC   \n",
       "ZIPCODE                                                                 20032   \n",
       "MARADDRESSREPOSITORYID                                                  66302   \n",
       "WARD                                                                        8   \n",
       "DETAILS                     w riggans collected bulk on 5/12/16*closed by ...   \n",
       "\n",
       "                                                                            4  \n",
       "﻿X                                                                    -77.004  \n",
       "Y                                                                     38.8359  \n",
       "OBJECTID                                                               947830  \n",
       "SERVICECODE                                                             S0031  \n",
       "SERVICECODEDESCRIPTION                                        Bulk Collection  \n",
       "SERVICETYPECODEDESCRIPTION          SWMA- Solid Waste Management Admistration  \n",
       "ORGANIZATIONACRONYM                                                       DPW  \n",
       "SERVICECALLCOUNT                                                            1  \n",
       "ADDDATE                                              2016-05-02T11:49:50.000Z  \n",
       "RESOLUTIONDATE                                       2016-05-12T14:26:24.000Z  \n",
       "SERVICEDUEDATE                                       2016-05-20T11:49:00.000Z  \n",
       "SERVICEORDERDATE                                     2016-05-02T11:49:50.000Z  \n",
       "INSPECTIONFLAG                                                              N  \n",
       "INSPECTIONDATE                                                            NaN  \n",
       "INSPECTORNAME                                                             NaN  \n",
       "SERVICEORDERSTATUS                                                     CLOSED  \n",
       "STATUS_CODE                                                            CLOSED  \n",
       "SERVICEREQUESTID                                                  16-00485868  \n",
       "PRIORITY                                                             STANDARD  \n",
       "STREETADDRESS                                         135 WILMINGTON PLACE SE  \n",
       "XCOORD                                                                 399652  \n",
       "YCOORD                                                                 129793  \n",
       "LATITUDE                                                              38.8359  \n",
       "LONGITUDE                                                             -77.004  \n",
       "CITY                                                               WASHINGTON  \n",
       "STATE                                                                      DC  \n",
       "ZIPCODE                                                                 20032  \n",
       "MARADDRESSREPOSITORYID                                                  66302  \n",
       "WARD                                                                        8  \n",
       "DETAILS                     w riggans collected bulk on 5/12/16*closed by ...  "
      ]
     },
     "execution_count": 3,
     "metadata": {},
     "output_type": "execute_result"
    }
   ],
   "source": [
    "df.head().T"
   ]
  },
  {
   "cell_type": "markdown",
   "metadata": {},
   "source": [
    "Recall that last week we saw that date variables are stored as object data types in Pandas Data Frames.\n",
    "\n",
    "However, we CAN turn them in to datetime types using Pandas's nifty datetime commands.\n",
    "\n",
    "Let's begin by converting the service order date into a new datetime column in our DataFrame called \"request_date\"."
   ]
  },
  {
   "cell_type": "code",
   "execution_count": 4,
   "metadata": {
    "collapsed": true
   },
   "outputs": [],
   "source": [
    "df['request_date'] = pd.to_datetime(df['SERVICEORDERDATE'])"
   ]
  },
  {
   "cell_type": "markdown",
   "metadata": {},
   "source": [
    "With any datetime object, we can use dt to pull the particulare date time that we're interested in.\n",
    "\n",
    "Here we use the value_counts function to look at the data by month."
   ]
  },
  {
   "cell_type": "code",
   "execution_count": 5,
   "metadata": {
    "collapsed": false
   },
   "outputs": [
    {
     "data": {
      "text/plain": [
       "1     34542\n",
       "8     29892\n",
       "9     26935\n",
       "6     26253\n",
       "7     25881\n",
       "5     24289\n",
       "10    24236\n",
       "3     23892\n",
       "4     23725\n",
       "2     21541\n",
       "11    20990\n",
       "12    20809\n",
       "Name: request_date, dtype: int64"
      ]
     },
     "execution_count": 5,
     "metadata": {},
     "output_type": "execute_result"
    }
   ],
   "source": [
    "df.request_date.dt.month.value_counts()"
   ]
  },
  {
   "cell_type": "markdown",
   "metadata": {},
   "source": [
    "Notice that January is the month in which the city received the most service requests. However, the other top months for service requests are all summer months, and our winter months (December, November, February) are those with the least service requests. Does January seem to be an anomaly? Let's look closer.\n",
    "\n",
    "The value_counts function returns to pieces of information: the values, which are the actual counts of rows or observations, and the index, which the values are grouped by. In this case, the index is the set of months and the values are the number of service requests each month. The value_counts function returns an output that is sorted by the values, but we can also sort by the index using the sort_index function. "
   ]
  },
  {
   "cell_type": "code",
   "execution_count": 6,
   "metadata": {
    "collapsed": false
   },
   "outputs": [
    {
     "data": {
      "text/plain": [
       "1     34542\n",
       "2     21541\n",
       "3     23892\n",
       "4     23725\n",
       "5     24289\n",
       "6     26253\n",
       "7     25881\n",
       "8     29892\n",
       "9     26935\n",
       "10    24236\n",
       "11    20990\n",
       "12    20809\n",
       "Name: request_date, dtype: int64"
      ]
     },
     "execution_count": 6,
     "metadata": {},
     "output_type": "execute_result"
    }
   ],
   "source": [
    "df.request_date.dt.month.value_counts().sort_index()"
   ]
  },
  {
   "cell_type": "markdown",
   "metadata": {},
   "source": [
    "It may be helpful to plot this output to help us visualize the number of service requests made throughout the year."
   ]
  },
  {
   "cell_type": "code",
   "execution_count": 7,
   "metadata": {
    "collapsed": false
   },
   "outputs": [
    {
     "data": {
      "text/plain": [
       "<matplotlib.axes._subplots.AxesSubplot at 0x26a6d709518>"
      ]
     },
     "execution_count": 7,
     "metadata": {},
     "output_type": "execute_result"
    },
    {
     "data": {
      "image/png": "[encoded data removed]",
      "text/plain": [
       "<matplotlib.figure.Figure at 0x26a6d709a58>"
      ]
     },
     "metadata": {},
     "output_type": "display_data"
    }
   ],
   "source": [
    "requests_per_month = df.request_date.dt.month.value_counts()\n",
    "requests_per_month.sort_index().plot()"
   ]
  },
  {
   "cell_type": "markdown",
   "metadata": {},
   "source": [
    "We can see that January does, indeed, look anomalous. After spiking in January, service requests are low throughout the winter months, increasing as we move into the warmer months and peaking in August, after which they dip down again as we return to winter. \n",
    "\n",
    "Let's take a look at what's happening in January. We can focus in on January by selecting the subset of our service requests that came in January. "
   ]
  },
  {
   "cell_type": "code",
   "execution_count": 8,
   "metadata": {
    "collapsed": false
   },
   "outputs": [
    {
     "name": "stdout",
     "output_type": "stream",
     "text": [
      "2016-01-01 00:30:30\n",
      "2016-01-31 23:43:20\n"
     ]
    }
   ],
   "source": [
    "jan_requests = df[df.request_date.dt.month==1]\n",
    "print(jan_requests.request_date.min())\n",
    "print(jan_requests.request_date.max())"
   ]
  },
  {
   "cell_type": "markdown",
   "metadata": {},
   "source": [
    "Here, we've fed Python a logical statement telling it to return values from df where the date-part month in the column 'request_date' is equal to 1 (or January).\n",
    "\n",
    "## Exercise 4\n",
    "\n",
    "To better understand how this works, try taking the command out of the square brackets and running it. What does it return?"
   ]
  },
  {
   "cell_type": "code",
   "execution_count": 9,
   "metadata": {
    "collapsed": false
   },
   "outputs": [
    {
     "data": {
      "text/plain": [
       "0         False\n",
       "1         False\n",
       "2         False\n",
       "3         False\n",
       "4         False\n",
       "5         False\n",
       "6         False\n",
       "7         False\n",
       "8         False\n",
       "9         False\n",
       "10        False\n",
       "11        False\n",
       "12         True\n",
       "13        False\n",
       "14        False\n",
       "15        False\n",
       "16        False\n",
       "17        False\n",
       "18        False\n",
       "19        False\n",
       "20        False\n",
       "21        False\n",
       "22         True\n",
       "23        False\n",
       "24        False\n",
       "25        False\n",
       "26        False\n",
       "27        False\n",
       "28        False\n",
       "29        False\n",
       "          ...  \n",
       "302955    False\n",
       "302956    False\n",
       "302957    False\n",
       "302958    False\n",
       "302959    False\n",
       "302960    False\n",
       "302961    False\n",
       "302962    False\n",
       "302963    False\n",
       "302964    False\n",
       "302965    False\n",
       "302966    False\n",
       "302967    False\n",
       "302968    False\n",
       "302969    False\n",
       "302970    False\n",
       "302971    False\n",
       "302972    False\n",
       "302973    False\n",
       "302974    False\n",
       "302975    False\n",
       "302976    False\n",
       "302977    False\n",
       "302978    False\n",
       "302979    False\n",
       "302980    False\n",
       "302981    False\n",
       "302982    False\n",
       "302983    False\n",
       "302984    False\n",
       "Name: request_date, dtype: bool"
      ]
     },
     "execution_count": 9,
     "metadata": {},
     "output_type": "execute_result"
    }
   ],
   "source": [
    "df.request_date.dt.month==1"
   ]
  },
  {
   "cell_type": "markdown",
   "metadata": {},
   "source": [
    "This returns a string of True and False statements. The 'True' values are the ones the DataFrame keeps, and the 'False' ones, it discards. \n",
    "\n",
    "Now that we have the January data, let's look at what kinds of requests were being made in January.\n",
    "\n",
    "## Exercise 5\n",
    "\n",
    "Get value counts for the service code description from the subsample of January service requests. What where the most common requests?"
   ]
  },
  {
   "cell_type": "code",
   "execution_count": 10,
   "metadata": {
    "collapsed": false
   },
   "outputs": [
    {
     "data": {
      "text/plain": [
       "Snow/Ice Removal                                        5347\n",
       "Residential Snow Removal (ServeDC)                      5278\n",
       "Sidewalk Shoveling Enforcement Exemption                5266\n",
       "Snow/Ice Removal (Roadways AND Bridge walkways ONLY)    2768\n",
       "Bulk Collection                                         2352\n",
       "Parking Enforcement                                     2079\n",
       "Parking Meter Repair                                    1997\n",
       "Snow Removal Complaints for Sidewalks                   1030\n",
       "Streetlight Repair Investigation                         817\n",
       "Emergency No-Parking Verification                        558\n",
       "Pothole                                                  543\n",
       "Trash Collection - Missed                                444\n",
       "Sanitation Enforcement                                   372\n",
       "Residential Parking Permit Violation                     357\n",
       "Abandoned Vehicle - On Public Property                   324\n",
       "Alley Cleaning                                           309\n",
       "DMV - Drivers License/ID Issues                          290\n",
       "Illegal Dumping                                          269\n",
       "Recycling Collection - Missed                            239\n",
       "DMV - Vehicle Registration Issues                        238\n",
       "Street Cleaning                                          226\n",
       "Alleylight Repair                                        210\n",
       "Sidewalk Repair                                          207\n",
       "TRU Report                                               169\n",
       "Out of State Parking Violation (ROSA)                    167\n",
       "Dead Animal Collection                                   146\n",
       "Christmas Tree Removal-Seasonal                          133\n",
       "Sign Replacement                                         131\n",
       "Traffic Signal Maintanence                               127\n",
       "Street Repair                                            124\n",
       "                                                        ... \n",
       "Wire Down/Power Outage                                     6\n",
       "DC Government Information                                  5\n",
       "DOEE - Engine Idling Tips                                  5\n",
       "Safe Routes to School                                      5\n",
       "Marking Modification                                       4\n",
       "Illegal Poster                                             4\n",
       "DMV - Vehicle Inspection Issues                            4\n",
       "DMV - Driver and Vehicle Services Refund                   4\n",
       "Snow Other                                                 4\n",
       "DOEE - Ban on Foam Food Containers                         4\n",
       "Recycling- Information Request                             3\n",
       "Signed Street Sweeping Missed                              2\n",
       "Curb and Gutter Repair Investigation                       2\n",
       "Emergency - Power Outage/Wires Down                        2\n",
       "DMV - eTIMS Ticket Alert Services Issues                   2\n",
       "Insect Treatment                                           2\n",
       "OUC NYE Test                                               1\n",
       "Roadway Marking Maintenance                                1\n",
       "School Crossing Guard                                      1\n",
       "Marking Removal                                            1\n",
       "Roadway Striping / Markings                                1\n",
       "DMV - Adjudication Supervisor                              1\n",
       "DOEE - Foam Ban Tips                                       1\n",
       "Traffic Safety Investigation                               1\n",
       "Light-Overhead Guide Sign Lighting Repair                  1\n",
       "How Is My Driving - Compliment                             1\n",
       "Grass and Weeds Mowing                                     1\n",
       "Alleylight Repair Investigation                            1\n",
       "Light-Light Pole                                           1\n",
       "DMV - Offset Tracking                                      1\n",
       "Name: SERVICECODEDESCRIPTION, dtype: int64"
      ]
     },
     "execution_count": 10,
     "metadata": {},
     "output_type": "execute_result"
    }
   ],
   "source": [
    "jan_requests.SERVICECODEDESCRIPTION.value_counts()"
   ]
  },
  {
   "cell_type": "markdown",
   "metadata": {},
   "source": [
    "The city received a TON of snow removal requests in January 2016, but received very few other requests. It seems that these requests for snow removal are driving the high number of requests in January.\n",
    "\n",
    "\n",
    "If you were living in the District in January 2016, you'll remember this was the month that Snowzilla hit the city. This was a record-breaking snowstorm that dumped feet of snow on the city from January 22nd to January 23rd. \n",
    "\n",
    "Let's take a look at the top request in January, Snow/Ice Removal.\n",
    "\n",
    "## Exercise 6\n",
    "\n",
    "Get the subsample of service requests for Snow/Ice Removal. Get the number of requests for each day in January 2016, then plot those requests so we can look at them over the course of the month. "
   ]
  },
  {
   "cell_type": "code",
   "execution_count": 11,
   "metadata": {
    "collapsed": true
   },
   "outputs": [],
   "source": [
    "jan_snow_removal = jan_requests[jan_requests.SERVICECODEDESCRIPTION=='Snow/Ice Removal']"
   ]
  },
  {
   "cell_type": "code",
   "execution_count": 12,
   "metadata": {
    "collapsed": false
   },
   "outputs": [
    {
     "data": {
      "text/plain": [
       "25    1983\n",
       "24    1123\n",
       "26    1049\n",
       "27     322\n",
       "28     194\n",
       "21     161\n",
       "23     159\n",
       "29     145\n",
       "20      86\n",
       "30      65\n",
       "31      25\n",
       "22      22\n",
       "18       5\n",
       "6        3\n",
       "19       2\n",
       "17       1\n",
       "13       1\n",
       "5        1\n",
       "Name: request_date, dtype: int64"
      ]
     },
     "execution_count": 12,
     "metadata": {},
     "output_type": "execute_result"
    }
   ],
   "source": [
    "jan_snow_removal.request_date.dt.day.value_counts()"
   ]
  },
  {
   "cell_type": "code",
   "execution_count": 13,
   "metadata": {
    "collapsed": false
   },
   "outputs": [
    {
     "data": {
      "text/plain": [
       "<matplotlib.axes._subplots.AxesSubplot at 0x26a5fc65358>"
      ]
     },
     "execution_count": 13,
     "metadata": {},
     "output_type": "execute_result"
    },
    {
     "data": {
      "image/png": "[encoded data removed]",
      "text/plain": [
       "<matplotlib.figure.Figure at 0x26a5fc505c0>"
      ]
     },
     "metadata": {},
     "output_type": "display_data"
    }
   ],
   "source": [
    "jan_snow_removal.request_date.dt.day.value_counts().sort_index().plot()"
   ]
  },
  {
   "cell_type": "markdown",
   "metadata": {},
   "source": [
    "We can see that almost all of the requests for snow and ice removal came in the days following Snowzilla.\n",
    "\n",
    "Now let's take a look at WHERE those requests were coming from. DC is organized into 8 wards. These wards are the largest political geographies in the District. Each ward has a representative on the District Council who is elected directly by the residents of that ward. \n",
    "\n",
    "## Exercise 7\n",
    "\n",
    "Get the number of requests for snow and ice removal from each of the wards in January 2016."
   ]
  },
  {
   "cell_type": "code",
   "execution_count": 14,
   "metadata": {
    "collapsed": false
   },
   "outputs": [
    {
     "data": {
      "text/plain": [
       "7.0    1145\n",
       "8.0     838\n",
       "5.0     830\n",
       "4.0     802\n",
       "3.0     617\n",
       "6.0     414\n",
       "1.0     405\n",
       "2.0     268\n",
       "Name: WARD, dtype: int64"
      ]
     },
     "execution_count": 14,
     "metadata": {},
     "output_type": "execute_result"
    }
   ],
   "source": [
    "jan_snow_removal.WARD.value_counts()"
   ]
  },
  {
   "cell_type": "markdown",
   "metadata": {},
   "source": [
    "By far, the most requests for snow and ice removal came from Ward 7, while the fewest (almost a thousand fewer) came from Ward 2. \n",
    "\n",
    "Now let's take a look at response times. Ward 7 had the most requests, but is that an indication that the city was slower to plot roads in Ward 7 than it was in other wards?\n",
    "\n",
    "## Exercise 8\n",
    "\n",
    "Create a new date column from the resolution date column in our DataFrame of requests for snow and ice removal in January."
   ]
  },
  {
   "cell_type": "code",
   "execution_count": 15,
   "metadata": {
    "collapsed": false
   },
   "outputs": [
    {
     "name": "stderr",
     "output_type": "stream",
     "text": [
      "C:\\Users\\peter.casey\\AppData\\Local\\Continuum\\Anaconda3\\envs\\py35\\lib\\site-packages\\ipykernel\\__main__.py:1: SettingWithCopyWarning: \n",
      "A value is trying to be set on a copy of a slice from a DataFrame.\n",
      "Try using .loc[row_indexer,col_indexer] = value instead\n",
      "\n",
      "See the caveats in the documentation: http://pandas.pydata.org/pandas-docs/stable/indexing.html#indexing-view-versus-copy\n",
      "  if __name__ == '__main__':\n"
     ]
    }
   ],
   "source": [
    "jan_snow_removal['resolution_date'] = pd.to_datetime(jan_snow_removal.RESOLUTIONDATE)"
   ]
  },
  {
   "cell_type": "markdown",
   "metadata": {},
   "source": [
    "Because the resolution date comes AFTER the service request, the resolution date will always be 'greater' than the request date. We can get the amount of time took the city to respond to each service request by taking the difference between the resolution date and the request date.\n",
    "\n",
    "## Exercise 9\n",
    "\n",
    "Subtract the request date from the resolution date and assign that to an object called \"time_diff\". Print time_diff."
   ]
  },
  {
   "cell_type": "code",
   "execution_count": 16,
   "metadata": {
    "collapsed": false
   },
   "outputs": [
    {
     "name": "stdout",
     "output_type": "stream",
     "text": [
      "106      1 days 15:47:26\n",
      "201      4 days 11:49:26\n",
      "211      5 days 08:27:07\n",
      "218      3 days 14:55:16\n",
      "219      2 days 17:48:47\n",
      "222      4 days 08:22:00\n",
      "223      1 days 18:31:15\n",
      "224      2 days 17:19:39\n",
      "225      4 days 08:21:43\n",
      "226      4 days 08:21:01\n",
      "227      3 days 13:22:23\n",
      "228      3 days 05:27:06\n",
      "229      1 days 18:30:33\n",
      "231      1 days 18:01:55\n",
      "232      3 days 03:57:30\n",
      "233      2 days 15:37:37\n",
      "234      3 days 15:35:54\n",
      "241      4 days 02:31:05\n",
      "242      4 days 01:30:49\n",
      "244      4 days 01:30:09\n",
      "245      1 days 06:57:47\n",
      "246      4 days 01:30:47\n",
      "247      1 days 06:56:27\n",
      "249      1 days 06:54:53\n",
      "251      0 days 07:04:33\n",
      "252      1 days 06:54:06\n",
      "254      1 days 06:53:16\n",
      "255      1 days 06:43:03\n",
      "256      4 days 01:27:38\n",
      "257      4 days 01:27:25\n",
      "              ...       \n",
      "65804    0 days 07:40:46\n",
      "65885    2 days 14:29:22\n",
      "65952    1 days 13:45:32\n",
      "65955    1 days 13:51:42\n",
      "65956    4 days 04:48:43\n",
      "65957    2 days 13:57:41\n",
      "65959    2 days 12:52:23\n",
      "65961    1 days 13:50:29\n",
      "65963    2 days 15:05:02\n",
      "65964    1 days 13:49:33\n",
      "65966    4 days 04:48:40\n",
      "65969    1 days 13:47:12\n",
      "65970    2 days 13:10:19\n",
      "65971    4 days 04:48:32\n",
      "65973    2 days 12:59:55\n",
      "65974    2 days 10:22:44\n",
      "66000    3 days 19:02:56\n",
      "66001    4 days 22:34:01\n",
      "66002    4 days 22:32:57\n",
      "66003    4 days 22:32:34\n",
      "66004    4 days 22:32:52\n",
      "66009    4 days 22:33:37\n",
      "66011    4 days 08:17:33\n",
      "66013    3 days 00:34:47\n",
      "66017    1 days 07:41:34\n",
      "66069    2 days 15:25:22\n",
      "66160    0 days 15:00:30\n",
      "66162   19 days 06:37:20\n",
      "66166    2 days 09:30:48\n",
      "66176    1 days 16:06:31\n",
      "dtype: timedelta64[ns]\n"
     ]
    }
   ],
   "source": [
    "time_diff = (jan_snow_removal.resolution_date - jan_snow_removal.request_date)\n",
    "print(time_diff)"
   ]
  },
  {
   "cell_type": "markdown",
   "metadata": {},
   "source": [
    "Great! Now let's convert time_diff to the number of hours it took to respond using the astype function. This function can be used to change the data type of a column. The timedelta64 function lets us convert to the datetime part we're interested in."
   ]
  },
  {
   "cell_type": "code",
   "execution_count": 17,
   "metadata": {
    "collapsed": false
   },
   "outputs": [
    {
     "data": {
      "text/plain": [
       "106       39.0\n",
       "201      107.0\n",
       "211      128.0\n",
       "218       86.0\n",
       "219       65.0\n",
       "222      104.0\n",
       "223       42.0\n",
       "224       65.0\n",
       "225      104.0\n",
       "226      104.0\n",
       "227       85.0\n",
       "228       77.0\n",
       "229       42.0\n",
       "231       42.0\n",
       "232       75.0\n",
       "233       63.0\n",
       "234       87.0\n",
       "241       98.0\n",
       "242       97.0\n",
       "244       97.0\n",
       "245       30.0\n",
       "246       97.0\n",
       "247       30.0\n",
       "249       30.0\n",
       "251        7.0\n",
       "252       30.0\n",
       "254       30.0\n",
       "255       30.0\n",
       "256       97.0\n",
       "257       97.0\n",
       "         ...  \n",
       "65804      7.0\n",
       "65885     62.0\n",
       "65952     37.0\n",
       "65955     37.0\n",
       "65956    100.0\n",
       "65957     61.0\n",
       "65959     60.0\n",
       "65961     37.0\n",
       "65963     63.0\n",
       "65964     37.0\n",
       "65966    100.0\n",
       "65969     37.0\n",
       "65970     61.0\n",
       "65971    100.0\n",
       "65973     60.0\n",
       "65974     58.0\n",
       "66000     91.0\n",
       "66001    118.0\n",
       "66002    118.0\n",
       "66003    118.0\n",
       "66004    118.0\n",
       "66009    118.0\n",
       "66011    104.0\n",
       "66013     72.0\n",
       "66017     31.0\n",
       "66069     63.0\n",
       "66160     15.0\n",
       "66162    462.0\n",
       "66166     57.0\n",
       "66176     40.0\n",
       "dtype: float64"
      ]
     },
     "execution_count": 17,
     "metadata": {},
     "output_type": "execute_result"
    }
   ],
   "source": [
    "time_diff.astype('timedelta64[h]')"
   ]
  },
  {
   "cell_type": "markdown",
   "metadata": {},
   "source": [
    "## Exercise 10\n",
    "\n",
    "Create a new column in our DataFrame calls \"response_time\" that is the time difference between resolution date and request date in hours. "
   ]
  },
  {
   "cell_type": "code",
   "execution_count": 18,
   "metadata": {
    "collapsed": false
   },
   "outputs": [
    {
     "name": "stderr",
     "output_type": "stream",
     "text": [
      "C:\\Users\\peter.casey\\AppData\\Local\\Continuum\\Anaconda3\\envs\\py35\\lib\\site-packages\\ipykernel\\__main__.py:1: SettingWithCopyWarning: \n",
      "A value is trying to be set on a copy of a slice from a DataFrame.\n",
      "Try using .loc[row_indexer,col_indexer] = value instead\n",
      "\n",
      "See the caveats in the documentation: http://pandas.pydata.org/pandas-docs/stable/indexing.html#indexing-view-versus-copy\n",
      "  if __name__ == '__main__':\n"
     ]
    }
   ],
   "source": [
    "jan_snow_removal['response_time'] = (jan_snow_removal.resolution_date - jan_snow_removal.request_date).astype('timedelta64[h]')"
   ]
  },
  {
   "cell_type": "markdown",
   "metadata": {},
   "source": [
    "Now that we have our response times, let's use the groupby function to get the average response time by ward."
   ]
  },
  {
   "cell_type": "code",
   "execution_count": 19,
   "metadata": {
    "collapsed": false
   },
   "outputs": [
    {
     "data": {
      "text/plain": [
       "WARD\n",
       "1.0     62.298765\n",
       "2.0     57.750000\n",
       "3.0     63.063209\n",
       "4.0     76.349127\n",
       "5.0    112.878313\n",
       "6.0     95.664251\n",
       "7.0     94.990393\n",
       "8.0     70.336516\n",
       "Name: response_time, dtype: float64"
      ]
     },
     "execution_count": 19,
     "metadata": {},
     "output_type": "execute_result"
    }
   ],
   "source": [
    "jan_snow_removal.groupby('WARD').response_time.mean()"
   ]
  },
  {
   "cell_type": "markdown",
   "metadata": {},
   "source": [
    "This looks a lot like the output from the value_counts function. In fact, value_counts is a type of groupby function that simply returns counts for each of the unique values in a column. \n",
    "\n",
    "The groupby function allows us to aggregate the data by the unique values of a column (or multiple columns) and return various statistics, including mean, median, minimum (min), maximum (max), counts, etc.\n",
    "\n",
    "Again, we have two parts to the output: the index, in this case the ward, and the values, in this case the average hours it to the city to respond to a request for snow and ice removal. The groupby function returns the values sorted by the index. However, we can sort the values by the value using the sort_values function. \n",
    "\n",
    "## Exercise 11\n",
    "\n",
    "Get the average response times by ward again and sort the values by the average response time in ascending order (from highest to lowest). Which ward had the longest response times? Which had the lowest?"
   ]
  },
  {
   "cell_type": "code",
   "execution_count": 20,
   "metadata": {
    "collapsed": false
   },
   "outputs": [
    {
     "data": {
      "text/plain": [
       "WARD\n",
       "5.0    112.878313\n",
       "6.0     95.664251\n",
       "7.0     94.990393\n",
       "4.0     76.349127\n",
       "8.0     70.336516\n",
       "3.0     63.063209\n",
       "1.0     62.298765\n",
       "2.0     57.750000\n",
       "Name: response_time, dtype: float64"
      ]
     },
     "execution_count": 20,
     "metadata": {},
     "output_type": "execute_result"
    }
   ],
   "source": [
    "jan_snow_removal.groupby('WARD').response_time.mean().sort_values(ascending=False)"
   ]
  },
  {
   "cell_type": "markdown",
   "metadata": {
    "collapsed": true
   },
   "source": [
    "Now we know which wards made the most requests for snow and ice removal following the historic snowstorm in January 2016. Why do you think some wards received faster service than others? Do you think you could build a model predicting which requests would receive the fastest response?"
   ]
  }
 ],
 "metadata": {
  "anaconda-cloud": {},
  "kernelspec": {
   "display_name": "Python [conda env:py35]",
   "language": "python",
   "name": "conda-env-py35-py"
  },
  "language_info": {
   "codemirror_mode": {
    "name": "ipython",
    "version": 3
   },
   "file_extension": ".py",
   "mimetype": "text/x-python",
   "name": "python",
   "nbconvert_exporter": "python",
   "pygments_lexer": "ipython3",
   "version": "3.5.2"
  }
 },
 "nbformat": 4,
 "nbformat_minor": 1
}
